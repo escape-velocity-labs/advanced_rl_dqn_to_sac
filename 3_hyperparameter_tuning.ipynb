{
 "cells": [
  {
   "cell_type": "markdown",
   "metadata": {
    "id": "CdhdXB_pPhcq"
   },
   "source": [
    "## Hyperparameter tuning with Optuna\n",
    "\n",
    "![optuna-logo.png](data:image/png;base64,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)"
   ]
  },
  {
   "cell_type": "code",
   "execution_count": null,
   "metadata": {
    "id": "2-XLsLHoPXYv"
   },
   "outputs": [],
   "source": [
    "!apt-get install -y xvfb\n",
    "\n",
    "!pip install \\\n",
    "    gym==0.21 \\\n",
    "    gym[box2d] \\\n",
    "    pytorch-lightning==1.6.0 \\\n",
    "    optuna==2.7.0 \\\n",
    "    pyvirtualdisplay"
   ]
  },
  {
   "cell_type": "markdown",
   "metadata": {
    "id": "ZOSJl-X7zvs4"
   },
   "source": [
    "#### Setup virtual display"
   ]
  },
  {
   "cell_type": "code",
   "execution_count": null,
   "metadata": {
    "id": "FllWJVrvPhzz"
   },
   "outputs": [],
   "source": [
    "from pyvirtualdisplay import Display\n",
    "Display(visible=False, size=(1400, 900)).start()"
   ]
  },
  {
   "cell_type": "markdown",
   "metadata": {
    "id": "Cz8DLleGz_TF"
   },
   "source": [
    "#### Import the necessary code libraries"
   ]
  },
  {
   "cell_type": "code",
   "execution_count": null,
   "metadata": {
    "id": "iVXUA1JoPmVM"
   },
   "outputs": [],
   "source": [
    "import copy\n",
    "import statistics\n",
    "import gym\n",
    "import torch\n",
    "import optuna\n",
    "\n",
    "import numpy as np\n",
    "import torch.nn.functional as F\n",
    "\n",
    "from collections import deque, namedtuple\n",
    "from IPython.display import HTML\n",
    "from base64 import b64encode\n",
    "\n",
    "from torch import nn\n",
    "from torch.utils.data import DataLoader\n",
    "from torch.utils.data.dataset import IterableDataset\n",
    "from torch.optim import AdamW\n",
    "\n",
    "from pytorch_lightning import LightningModule, Trainer\n",
    "\n",
    "from gym.wrappers import RecordVideo, RecordEpisodeStatistics\n",
    "\n",
    "from optuna.integration import PyTorchLightningPruningCallback\n",
    "\n",
    "device = 'cuda:0' if torch.cuda.is_available() else 'cpu'\n",
    "num_gpus = torch.cuda.device_count()"
   ]
  },
  {
   "cell_type": "code",
   "execution_count": null,
   "metadata": {
    "id": "XPGaTA9mPmXn"
   },
   "outputs": [],
   "source": [
    "def display_video(episode=0):\n",
    "  video_file = open(f'/content/videos/rl-video-episode-{episode}.mp4', \"r+b\").read()\n",
    "  video_url = f\"data:video/mp4;base64,{b64encode(video_file).decode()}\"\n",
    "  return HTML(f\"<video width=600 controls><source src='{video_url}'></video>\")"
   ]
  },
  {
   "cell_type": "markdown",
   "metadata": {
    "id": "eLH52SgC0RRI"
   },
   "source": [
    "#### Create the Deep Q-Network"
   ]
  },
  {
   "cell_type": "code",
   "execution_count": null,
   "metadata": {
    "id": "BL3UviKCPmZ6"
   },
   "outputs": [],
   "source": [
    "class DQN(nn.Module):\n",
    "    def __init__(self, hidden_size, obs_size, n_actions):\n",
    "        super().__init__()\n",
    "        self.net = nn.Sequential(\n",
    "            nn.Linear(obs_size, hidden_size),\n",
    "            nn.ReLU(),\n",
    "            nn.Linear(hidden_size, hidden_size),\n",
    "            nn.ReLU(),           \n",
    "            nn.Linear(hidden_size, n_actions),\n",
    "        )\n",
    "\n",
    "    def forward(self, x):\n",
    "        return self.net(x.float())"
   ]
  },
  {
   "cell_type": "markdown",
   "metadata": {
    "id": "bnk0wSWj0hAz"
   },
   "source": [
    "#### Create the policy"
   ]
  },
  {
   "cell_type": "code",
   "execution_count": null,
   "metadata": {
    "id": "n0DzHUT_PmcT"
   },
   "outputs": [],
   "source": [
    "def epsilon_greedy(state, env, net, epsilon=0.0):\n",
    "  if np.random.random() < epsilon:\n",
    "      action = env.action_space.sample()\n",
    "  else:\n",
    "      state = torch.tensor([state]).to(device)\n",
    "      q_values = net(state)\n",
    "      _, action = torch.max(q_values, dim=1)\n",
    "      action = int(action.item())\n",
    "  return action"
   ]
  },
  {
   "cell_type": "markdown",
   "metadata": {
    "id": "brJmKGkl0jge"
   },
   "source": [
    "#### Create the replay buffer"
   ]
  },
  {
   "cell_type": "code",
   "execution_count": null,
   "metadata": {
    "id": "9T-fsyriPme6"
   },
   "outputs": [],
   "source": [
    "Experience = namedtuple(\n",
    "    \"Experience\",\n",
    "    field_names=[\"state\", \"action\", \"reward\", \"done\", \"new_state\"],\n",
    ")"
   ]
  },
  {
   "cell_type": "code",
   "execution_count": null,
   "metadata": {
    "id": "nLprQhrtPmhR"
   },
   "outputs": [],
   "source": [
    "class ReplayBuffer:\n",
    "\n",
    "    def __init__(self, capacity):\n",
    "        self.buffer = deque(maxlen=capacity)\n",
    "\n",
    "    def __len__(self):\n",
    "        return len(self.buffer)\n",
    "\n",
    "    def append(self, experience):\n",
    "\n",
    "        self.buffer.append(experience)\n",
    "\n",
    "    def sample(self, batch_size):\n",
    "        indices = np.random.choice(len(self.buffer), batch_size, replace=False)\n",
    "        states, actions, rewards, dones, next_states = zip(*(self.buffer[idx] for idx in indices))\n",
    "\n",
    "        return (\n",
    "            np.array(states),\n",
    "            np.array(actions),\n",
    "            np.array(rewards, dtype=np.float32),\n",
    "            np.array(dones, dtype=np.bool),\n",
    "            np.array(next_states),\n",
    "        )"
   ]
  },
  {
   "cell_type": "code",
   "execution_count": null,
   "metadata": {
    "id": "_BQjkQOlPmkU"
   },
   "outputs": [],
   "source": [
    "class RLDataset(IterableDataset):\n",
    "\n",
    "    def __init__(self, buffer, sample_size=200):\n",
    "        self.buffer = buffer\n",
    "        self.sample_size = sample_size\n",
    "\n",
    "    def __iter__(self):\n",
    "        states, actions, rewards, dones, new_states = self.buffer.sample(self.sample_size)\n",
    "        for i in range(len(dones)):\n",
    "            yield states[i], actions[i], rewards[i], dones[i], new_states[i]"
   ]
  },
  {
   "cell_type": "markdown",
   "metadata": {
    "id": "0yvDC9qF0oPr"
   },
   "source": [
    "#### Create the environment"
   ]
  },
  {
   "cell_type": "code",
   "execution_count": null,
   "metadata": {
    "id": "6KlHL-kznY3C"
   },
   "outputs": [],
   "source": [
    "def create_environment(name):\n",
    "  env = gym.make(name)\n",
    "  env = RecordVideo(env, video_folder='./videos', episode_trigger=lambda x: x % 50 == 0)\n",
    "  env = RecordEpisodeStatistics(env)\n",
    "  return env"
   ]
  },
  {
   "cell_type": "markdown",
   "metadata": {
    "id": "WLmsqFuW1kkC"
   },
   "source": [
    "#### Create the test/sampling function"
   ]
  },
  {
   "cell_type": "code",
   "execution_count": null,
   "metadata": {
    "id": "hwnhC_zCwKDm"
   },
   "outputs": [],
   "source": [
    "  @torch.no_grad()\n",
    "  def play_episode(env, q_net, buffer, policy=None, epsilon=0.):\n",
    "      obs = env.reset()\n",
    "      done = False\n",
    "\n",
    "      while not done:\n",
    "        if policy:\n",
    "          action = policy(obs, env, q_net, epsilon=epsilon)\n",
    "        else:\n",
    "          action = env.action_space.sample()\n",
    "          \n",
    "        next_obs, reward, done, info = env.step(action)\n",
    "        exp = Experience(obs, action, reward, done, next_obs)\n",
    "        buffer.append(exp)\n",
    "        obs = next_obs"
   ]
  },
  {
   "cell_type": "markdown",
   "metadata": {
    "id": "sgXi6A4Z1p75"
   },
   "source": [
    "#### Create the Deep Q-Learning algorithm"
   ]
  },
  {
   "cell_type": "code",
   "execution_count": null,
   "metadata": {
    "id": "tOmxUJ1vnY5d"
   },
   "outputs": [],
   "source": [
    "class DeepQLearning(LightningModule):\n",
    "\n",
    "  def __init__(self, env_name, policy=epsilon_greedy, sample_fn=play_episode, \n",
    "               capacity=100_000, batch_size=256, lr=1e-3, hidden_size=128, gamma=0.99, \n",
    "               loss_fn=F.smooth_l1_loss, optim=AdamW, eps_start=1.0, eps_end=0.15, \n",
    "               eps_last_episode=100, samples_per_epoch=10_000, sync_rate=10):\n",
    "\n",
    "    super().__init__()\n",
    "    self.env = create_environment(env_name)\n",
    "\n",
    "    obs_size = self.env.observation_space.shape[0]\n",
    "    n_actions = self.env.action_space.n\n",
    "\n",
    "    self.q_net = DQN(hidden_size, obs_size, n_actions).to(device)\n",
    "    self.target_q_net = copy.deepcopy(self.q_net)\n",
    "    self.policy = policy\n",
    "\n",
    "    self.buffer = ReplayBuffer(capacity=capacity)\n",
    "\n",
    "    self.save_hyperparameters()\n",
    "\n",
    "    while len(self.buffer) < self.hparams.samples_per_epoch:\n",
    "\n",
    "      print(f\"{len(self.buffer)} samples in experience buffer. Filling...\")\n",
    "      self.hparams.sample_fn(self.env, self.q_net, self.buffer, epsilon=self.hparams.eps_start)\n",
    "  \n",
    "  def forward(self, x):\n",
    "    output = self.q_net(x)\n",
    "    return output\n",
    "\n",
    "  def configure_optimizers(self):\n",
    "    q_net_optimizer = self.hparams.optim(self.q_net.parameters(), lr=self.hparams.lr)\n",
    "    return [q_net_optimizer]\n",
    "\n",
    "  def train_dataloader(self):\n",
    "    dataset = RLDataset(self.buffer, self.hparams.samples_per_epoch)\n",
    "    dataloader = DataLoader(\n",
    "        dataset=dataset,\n",
    "        batch_size=self.hparams.batch_size,\n",
    "    )\n",
    "    return dataloader\n",
    "\n",
    "  def training_step(self, batch, batch_idx):\n",
    "\n",
    "    states, actions, rewards, dones, next_states = batch\n",
    "    actions = actions.unsqueeze(1)\n",
    "    rewards = rewards.unsqueeze(1)\n",
    "    dones = dones.unsqueeze(1)\n",
    "    state_action_values = self.q_net(states).gather(1, actions)\n",
    "\n",
    "    with torch.no_grad():\n",
    "      next_state_values, _ = self.target_q_net(next_states).max(dim=1, keepdim=True)\n",
    "      next_state_values[dones] = 0.0\n",
    "    \n",
    "    expected_state_action_values = rewards + self.hparams.gamma * next_state_values\n",
    "\n",
    "    loss = self.hparams.loss_fn(state_action_values, expected_state_action_values)\n",
    "    self.log('episode/MSE Loss', loss, on_step=False, on_epoch=True)\n",
    "    return loss\n",
    "\n",
    "\n",
    "  def training_epoch_end(self, training_step_outputs):\n",
    "\n",
    "    epsilon = max(\n",
    "        self.hparams.eps_end,\n",
    "        self.hparams.eps_start - self.current_epoch / self.hparams.eps_last_episode\n",
    "    )\n",
    "\n",
    "    self.hparams.sample_fn(self.env, self.q_net, self.buffer, policy=self.policy, epsilon=epsilon)\n",
    "\n",
    "    self.log(\"episode/Return\", self.env.return_queue[-1])\n",
    "    if self.current_epoch == 199:\n",
    "      returns = list(self.env.return_queue)\n",
    "      self.log(\"hp_metric\", statistics.mean(returns))\n",
    "    \n",
    "\n",
    "    if self.current_epoch % self.hparams.sync_rate == 0:\n",
    "      self.target_q_net.load_state_dict(self.q_net.state_dict())"
   ]
  },
  {
   "cell_type": "markdown",
   "metadata": {
    "id": "iv-ZRdyf4mCt"
   },
   "source": [
    "#### Create the objective function"
   ]
  },
  {
   "cell_type": "code",
   "execution_count": null,
   "metadata": {
    "id": "3B9ZoVV-QHrK"
   },
   "outputs": [],
   "source": [
    "def objective(trial):\n",
    "  lr = trial.suggest_float(\"lr\", 1e-5, 1e-1, log=True)\n",
    "  gamma = trial.suggest_float(\"gamma\", 0.0, 1.0)\n",
    "  hidden_size = trial.suggest_categorical(\"hidden_size\", [32, 64, 128, 256])\n",
    "  eps_end = trial.suggest_float(\"eps_end\", 0.0, 0.3)\n",
    "\n",
    "  algo = DeepQLearning(\n",
    "      'LunarLander-v2',\n",
    "      lr=lr,\n",
    "      gamma=gamma,\n",
    "      hidden_size=hidden_size,\n",
    "      eps_end=eps_end\n",
    "  )\n",
    "\n",
    "  callback = PyTorchLightningPruningCallback(trial, monitor=\"episode/Return\")\n",
    "\n",
    "  trainer = Trainer(\n",
    "      gpus=num_gpus, \n",
    "      max_epochs=200,\n",
    "      track_grad_norm=2,\n",
    "      callbacks=[callback]\n",
    "  )\n",
    "\n",
    "  hyperparameters = dict(\n",
    "      lr=lr, \n",
    "      gamma=gamma, \n",
    "      hidden_size=hidden_size,\n",
    "      eps_end=eps_end\n",
    "  )\n",
    "  \n",
    "  trainer.logger.log_hyperparams(hyperparameters)\n",
    "  trainer.fit(algo)\n",
    "\n",
    "  return trainer.callback_metrics[\"episode/Return\"].item()"
   ]
  },
  {
   "cell_type": "markdown",
   "metadata": {
    "id": "mJUxWPhF47mW"
   },
   "source": [
    "#### Create the optimization study"
   ]
  },
  {
   "cell_type": "code",
   "execution_count": null,
   "metadata": {
    "id": "1MynMxzZQHtz"
   },
   "outputs": [],
   "source": [
    "pruner = optuna.pruners.SuccessiveHalvingPruner()\n",
    "study = optuna.create_study(direction=\"maximize\", pruner=pruner)"
   ]
  },
  {
   "cell_type": "markdown",
   "metadata": {
    "id": "6mm9P0sX1wAA"
   },
   "source": [
    "#### Purge logs and run the visualization tool (Tensorboard)"
   ]
  },
  {
   "cell_type": "code",
   "execution_count": null,
   "metadata": {
    "id": "MfGQdpn0nY99"
   },
   "outputs": [],
   "source": [
    "# Start tensorboard.\n",
    "!rm -r /content/lightning_logs/\n",
    "!rm -r /content/videos/\n",
    "%load_ext tensorboard\n",
    "%tensorboard --logdir /content/lightning_logs/"
   ]
  },
  {
   "cell_type": "markdown",
   "metadata": {
    "id": "9v1eHYSJ5EpO"
   },
   "source": [
    "#### Run the hyperparameter search"
   ]
  },
  {
   "cell_type": "code",
   "execution_count": null,
   "metadata": {
    "id": "Ig8c_RM8nZLN"
   },
   "outputs": [],
   "source": [
    "study.optimize(objective, n_trials=20)"
   ]
  },
  {
   "cell_type": "markdown",
   "metadata": {
    "id": "oG0rQKyT5H-P"
   },
   "source": [
    "#### Select and use the best hyperparameters"
   ]
  },
  {
   "cell_type": "code",
   "execution_count": null,
   "metadata": {
    "id": "ZiCp91CbPmrn"
   },
   "outputs": [],
   "source": [
    "study.best_params"
   ]
  },
  {
   "cell_type": "code",
   "execution_count": null,
   "metadata": {
    "id": "VyXUmpt05WaK"
   },
   "outputs": [],
   "source": [
    "# Start tensorboard.\n",
    "!rm -r /content/lightning_logs/\n",
    "!rm -r /content/videos/\n",
    "%load_ext tensorboard\n",
    "%tensorboard --logdir /content/lightning_logs/"
   ]
  },
  {
   "cell_type": "code",
   "execution_count": null,
   "metadata": {
    "id": "fq8UhUU0QUP-"
   },
   "outputs": [],
   "source": [
    "algo = DeepQLearning('LunarLander-v2', **study.best_params)\n",
    "\n",
    "trainer = Trainer(\n",
    "  gpus=num_gpus, \n",
    "  max_epochs=1000,\n",
    "  track_grad_norm=2,\n",
    ")\n",
    "\n",
    "trainer.fit(algo)"
   ]
  },
  {
   "cell_type": "markdown",
   "metadata": {
    "id": "jD3x39w71xWR"
   },
   "source": [
    "#### Check the resulting policy"
   ]
  },
  {
   "cell_type": "code",
   "execution_count": null,
   "metadata": {
    "id": "TSElgv7I4fE6"
   },
   "outputs": [],
   "source": [
    "display_video(episode=500)"
   ]
  }
 ],
 "metadata": {
  "colab": {
   "collapsed_sections": [],
   "name": "3_hyperparameter_tuning.ipynb",
   "provenance": []
  },
  "kernelspec": {
   "display_name": "Python 3 (ipykernel)",
   "language": "python",
   "name": "python3"
  },
  "language_info": {
   "codemirror_mode": {
    "name": "ipython",
    "version": 3
   },
   "file_extension": ".py",
   "mimetype": "text/x-python",
   "name": "python",
   "nbconvert_exporter": "python",
   "pygments_lexer": "ipython3",
   "version": "3.9.1"
  }
 },
 "nbformat": 4,
 "nbformat_minor": 1
}
